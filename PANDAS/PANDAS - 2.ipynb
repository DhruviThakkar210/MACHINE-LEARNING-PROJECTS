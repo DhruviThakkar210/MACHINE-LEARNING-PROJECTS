{
 "cells": [
  {
   "cell_type": "code",
   "execution_count": null,
   "id": "402472a0",
   "metadata": {},
   "outputs": [],
   "source": []
  },
  {
   "cell_type": "code",
   "execution_count": null,
   "id": "b7eef402",
   "metadata": {},
   "outputs": [],
   "source": []
  },
  {
   "cell_type": "code",
   "execution_count": 15,
   "id": "f9b81629",
   "metadata": {},
   "outputs": [
    {
     "name": "stdout",
     "output_type": "stream",
     "text": [
      "   0.0200  0.0371  0.0428  0.0207  0.0954  0.0986  0.1539  0.1601  0.3109  \\\n",
      "0  0.0453  0.0523  0.0843  0.0689  0.1183  0.2583  0.2156  0.3481  0.3337   \n",
      "1  0.0262  0.0582  0.1099  0.1083  0.0974  0.2280  0.2431  0.3771  0.5598   \n",
      "2  0.0100  0.0171  0.0623  0.0205  0.0205  0.0368  0.1098  0.1276  0.0598   \n",
      "3  0.0762  0.0666  0.0481  0.0394  0.0590  0.0649  0.1209  0.2467  0.3564   \n",
      "4  0.0286  0.0453  0.0277  0.0174  0.0384  0.0990  0.1201  0.1833  0.2105   \n",
      "\n",
      "   0.2111  ...  0.0027  0.0065  0.0159  0.0072  0.0167  0.0180  0.0084  \\\n",
      "0  0.2872  ...  0.0084  0.0089  0.0048  0.0094  0.0191  0.0140  0.0049   \n",
      "1  0.6194  ...  0.0232  0.0166  0.0095  0.0180  0.0244  0.0316  0.0164   \n",
      "2  0.1264  ...  0.0121  0.0036  0.0150  0.0085  0.0073  0.0050  0.0044   \n",
      "3  0.4459  ...  0.0031  0.0054  0.0105  0.0110  0.0015  0.0072  0.0048   \n",
      "4  0.3039  ...  0.0045  0.0014  0.0038  0.0013  0.0089  0.0057  0.0027   \n",
      "\n",
      "   0.0090  0.0032  R  \n",
      "0  0.0052  0.0044  R  \n",
      "1  0.0095  0.0078  R  \n",
      "2  0.0040  0.0117  R  \n",
      "3  0.0107  0.0094  R  \n",
      "4  0.0051  0.0062  R  \n",
      "\n",
      "[5 rows x 61 columns]\n",
      "     0.0200  0.0371  0.0428  0.0207  0.0954  0.0986  0.1539  0.1601  0.3109  \\\n",
      "202  0.0187  0.0346  0.0168  0.0177  0.0393  0.1630  0.2028  0.1694  0.2328   \n",
      "203  0.0323  0.0101  0.0298  0.0564  0.0760  0.0958  0.0990  0.1018  0.1030   \n",
      "204  0.0522  0.0437  0.0180  0.0292  0.0351  0.1171  0.1257  0.1178  0.1258   \n",
      "205  0.0303  0.0353  0.0490  0.0608  0.0167  0.1354  0.1465  0.1123  0.1945   \n",
      "206  0.0260  0.0363  0.0136  0.0272  0.0214  0.0338  0.0655  0.1400  0.1843   \n",
      "\n",
      "     0.2111  ...  0.0027  0.0065  0.0159  0.0072  0.0167  0.0180  0.0084  \\\n",
      "202  0.2684  ...  0.0116  0.0098  0.0199  0.0033  0.0101  0.0065  0.0115   \n",
      "203  0.2154  ...  0.0061  0.0093  0.0135  0.0063  0.0063  0.0034  0.0032   \n",
      "204  0.2529  ...  0.0160  0.0029  0.0051  0.0062  0.0089  0.0140  0.0138   \n",
      "205  0.2354  ...  0.0086  0.0046  0.0126  0.0036  0.0035  0.0034  0.0079   \n",
      "206  0.2354  ...  0.0146  0.0129  0.0047  0.0039  0.0061  0.0040  0.0036   \n",
      "\n",
      "     0.0090  0.0032  R  \n",
      "202  0.0193  0.0157  M  \n",
      "203  0.0062  0.0067  M  \n",
      "204  0.0077  0.0031  M  \n",
      "205  0.0036  0.0048  M  \n",
      "206  0.0061  0.0115  M  \n",
      "\n",
      "[5 rows x 61 columns]\n",
      "           0.0200      0.0371      0.0428      0.0207      0.0954      0.0986  \\\n",
      "count  207.000000  207.000000  207.000000  207.000000  207.000000  207.000000   \n",
      "mean     0.029208    0.038443    0.043837    0.054053    0.075105    0.104599   \n",
      "std      0.023038    0.033040    0.038521    0.046583    0.055669    0.059247   \n",
      "min      0.001500    0.000600    0.001500    0.005800    0.006700    0.010200   \n",
      "25%      0.013300    0.016400    0.018900    0.024450    0.037700    0.066950   \n",
      "50%      0.022800    0.030800    0.034200    0.044100    0.062000    0.092100   \n",
      "75%      0.035800    0.048100    0.058200    0.065700    0.101050    0.134150   \n",
      "max      0.137100    0.233900    0.305900    0.426400    0.401000    0.382300   \n",
      "\n",
      "           0.1539      0.1601      0.3109      0.2111  ...      0.0232  \\\n",
      "count  207.000000  207.000000  207.000000  207.000000  ...  207.000000   \n",
      "mean     0.121591    0.134677    0.177361    0.208245  ...    0.016034   \n",
      "std      0.061897    0.085340    0.118311    0.134741  ...    0.012027   \n",
      "min      0.003300    0.005500    0.007500    0.011300  ...    0.000000   \n",
      "25%      0.080600    0.080350    0.096750    0.111150  ...    0.008350   \n",
      "50%      0.105600    0.111900    0.152200    0.181000  ...    0.013800   \n",
      "75%      0.153050    0.169800    0.231500    0.269000  ...    0.020700   \n",
      "max      0.372900    0.459000    0.682800    0.710600  ...    0.100400   \n",
      "\n",
      "           0.0027      0.0065      0.0159      0.0072      0.0167      0.0180  \\\n",
      "count  207.000000  207.000000  207.000000  207.000000  207.000000  207.000000   \n",
      "mean     0.013472    0.010729    0.010917    0.009300    0.008181    0.007771   \n",
      "std      0.009628    0.007071    0.007310    0.007103    0.005719    0.005756   \n",
      "min      0.000800    0.000500    0.001000    0.000600    0.000400    0.000300   \n",
      "25%      0.007350    0.005050    0.005350    0.004100    0.004400    0.003700   \n",
      "50%      0.011500    0.009600    0.009300    0.007500    0.006800    0.005900   \n",
      "75%      0.016750    0.014900    0.014450    0.012100    0.010350    0.010350   \n",
      "max      0.070900    0.039000    0.035200    0.044700    0.039400    0.035500   \n",
      "\n",
      "           0.0084      0.0090      0.0032  \n",
      "count  207.000000  207.000000  207.000000  \n",
      "mean     0.007947    0.007936    0.006523  \n",
      "std      0.006485    0.006196    0.005038  \n",
      "min      0.000300    0.000100    0.000600  \n",
      "25%      0.003600    0.003650    0.003100  \n",
      "50%      0.005800    0.006300    0.005300  \n",
      "75%      0.010400    0.010350    0.008550  \n",
      "max      0.044000    0.036400    0.043900  \n",
      "\n",
      "[8 rows x 60 columns]\n",
      "<class 'pandas.core.frame.DataFrame'>\n",
      "RangeIndex: 207 entries, 0 to 206\n",
      "Data columns (total 61 columns):\n",
      " #   Column  Non-Null Count  Dtype  \n",
      "---  ------  --------------  -----  \n",
      " 0   0.0200  207 non-null    float64\n",
      " 1   0.0371  207 non-null    float64\n",
      " 2   0.0428  207 non-null    float64\n",
      " 3   0.0207  207 non-null    float64\n",
      " 4   0.0954  207 non-null    float64\n",
      " 5   0.0986  207 non-null    float64\n",
      " 6   0.1539  207 non-null    float64\n",
      " 7   0.1601  207 non-null    float64\n",
      " 8   0.3109  207 non-null    float64\n",
      " 9   0.2111  207 non-null    float64\n",
      " 10  0.1609  207 non-null    float64\n",
      " 11  0.1582  207 non-null    float64\n",
      " 12  0.2238  207 non-null    float64\n",
      " 13  0.0645  207 non-null    float64\n",
      " 14  0.0660  207 non-null    float64\n",
      " 15  0.2273  207 non-null    float64\n",
      " 16  0.3100  207 non-null    float64\n",
      " 17  0.2999  207 non-null    float64\n",
      " 18  0.5078  207 non-null    float64\n",
      " 19  0.4797  207 non-null    float64\n",
      " 20  0.5783  207 non-null    float64\n",
      " 21  0.5071  207 non-null    float64\n",
      " 22  0.4328  207 non-null    float64\n",
      " 23  0.5550  207 non-null    float64\n",
      " 24  0.6711  207 non-null    float64\n",
      " 25  0.6415  207 non-null    float64\n",
      " 26  0.7104  207 non-null    float64\n",
      " 27  0.8080  207 non-null    float64\n",
      " 28  0.6791  207 non-null    float64\n",
      " 29  0.3857  207 non-null    float64\n",
      " 30  0.1307  207 non-null    float64\n",
      " 31  0.2604  207 non-null    float64\n",
      " 32  0.5121  207 non-null    float64\n",
      " 33  0.7547  207 non-null    float64\n",
      " 34  0.8537  207 non-null    float64\n",
      " 35  0.8507  207 non-null    float64\n",
      " 36  0.6692  207 non-null    float64\n",
      " 37  0.6097  207 non-null    float64\n",
      " 38  0.4943  207 non-null    float64\n",
      " 39  0.2744  207 non-null    float64\n",
      " 40  0.0510  207 non-null    float64\n",
      " 41  0.2834  207 non-null    float64\n",
      " 42  0.2825  207 non-null    float64\n",
      " 43  0.4256  207 non-null    float64\n",
      " 44  0.2641  207 non-null    float64\n",
      " 45  0.1386  207 non-null    float64\n",
      " 46  0.1051  207 non-null    float64\n",
      " 47  0.1343  207 non-null    float64\n",
      " 48  0.0383  207 non-null    float64\n",
      " 49  0.0324  207 non-null    float64\n",
      " 50  0.0232  207 non-null    float64\n",
      " 51  0.0027  207 non-null    float64\n",
      " 52  0.0065  207 non-null    float64\n",
      " 53  0.0159  207 non-null    float64\n",
      " 54  0.0072  207 non-null    float64\n",
      " 55  0.0167  207 non-null    float64\n",
      " 56  0.0180  207 non-null    float64\n",
      " 57  0.0084  207 non-null    float64\n",
      " 58  0.0090  207 non-null    float64\n",
      " 59  0.0032  207 non-null    float64\n",
      " 60  R       207 non-null    object \n",
      "dtypes: float64(60), object(1)\n",
      "memory usage: 98.8+ KB\n",
      "None\n"
     ]
    }
   ],
   "source": [
    "import pandas as pd\n",
    "\n",
    "# Assuming you have a CSV file named 'data.csv'\n",
    "df = pd.read_csv('Data.csv')\n",
    "#HEAD\n",
    "print(df.head())\n",
    "#HEAD\n",
    "print(df.tail())\n",
    "#HEAD\n",
    "print(df.describe())\n",
    "#HEAD\n",
    "print(df.info())\n",
    "\n"
   ]
  },
  {
   "cell_type": "code",
   "execution_count": null,
   "id": "c8123287",
   "metadata": {},
   "outputs": [],
   "source": [
    "#Q2. Given a Pandas DataFrame df with columns 'A', 'B', and 'C', write a Python function to re-index the\n",
    "#DataFrame with a new index that starts from 1 and increments by 2 for each row.\n"
   ]
  },
  {
   "cell_type": "code",
   "execution_count": 17,
   "id": "a8434bc6",
   "metadata": {},
   "outputs": [
    {
     "ename": "TypeError",
     "evalue": "unhashable type: 'slice'",
     "output_type": "error",
     "traceback": [
      "\u001b[1;31m---------------------------------------------------------------------------\u001b[0m",
      "\u001b[1;31mTypeError\u001b[0m                                 Traceback (most recent call last)",
      "\u001b[1;32m~\\AppData\\Local\\Temp\\ipykernel_2364\\2263528874.py\u001b[0m in \u001b[0;36m<module>\u001b[1;34m\u001b[0m\n\u001b[0;32m      5\u001b[0m     \u001b[1;34m\"C\"\u001b[0m \u001b[1;33m:\u001b[0m \u001b[1;33m[\u001b[0m\u001b[1;34m\"GOOD\"\u001b[0m\u001b[1;33m,\u001b[0m\u001b[1;34m\"BETTER \"\u001b[0m\u001b[1;33m,\u001b[0m\u001b[1;34m\"WORST\"\u001b[0m\u001b[1;33m,\u001b[0m\u001b[1;34m\"BAD\"\u001b[0m\u001b[1;33m]\u001b[0m\u001b[1;33m\u001b[0m\u001b[1;33m\u001b[0m\u001b[0m\n\u001b[0;32m      6\u001b[0m }\n\u001b[1;32m----> 7\u001b[1;33m \u001b[0mdf\u001b[0m\u001b[1;33m[\u001b[0m\u001b[0mdf\u001b[0m\u001b[1;33m[\u001b[0m\u001b[1;36m1\u001b[0m\u001b[1;33m:\u001b[0m\u001b[1;33m:\u001b[0m\u001b[1;36m2\u001b[0m\u001b[1;33m]\u001b[0m\u001b[1;33m.\u001b[0m\u001b[0mindex\u001b[0m\u001b[1;33m(\u001b[0m\u001b[1;33m)\u001b[0m\u001b[1;33m]\u001b[0m\u001b[1;33m\u001b[0m\u001b[1;33m\u001b[0m\u001b[0m\n\u001b[0m",
      "\u001b[1;31mTypeError\u001b[0m: unhashable type: 'slice'"
     ]
    }
   ],
   "source": [
    "import pandas as pd \n",
    "df = {\n",
    "    \"A\" : [1,2,3,4],\n",
    "    \"B\" : [\"Anu \", \" DHRUVI\",\"GNAN\",\"PARV\"],\n",
    "    \"C\" : [\"GOOD\",\"BETTER \",\"WORST\",\"BAD\"]\n",
    "}\n",
    "df[df[1::2].index()]"
   ]
  },
  {
   "cell_type": "code",
   "execution_count": 18,
   "id": "d8b109c4",
   "metadata": {},
   "outputs": [
    {
     "name": "stdout",
     "output_type": "stream",
     "text": [
      "   A       B       C\n",
      "0  2  DHRUVI  BETTER\n",
      "1  4    PARV     BAD\n"
     ]
    }
   ],
   "source": [
    "import pandas as pd\n",
    "\n",
    "df_data = {\n",
    "    \"A\": [1, 2, 3, 4],\n",
    "    \"B\": [\"Anu\", \"DHRUVI\", \"GNAN\", \"PARV\"],\n",
    "    \"C\": [\"GOOD\", \"BETTER\", \"WORST\", \"BAD\"]\n",
    "}\n",
    "\n",
    "# Create a DataFrame\n",
    "df = pd.DataFrame(df_data)\n",
    "\n",
    "# Use [1::2] to select rows and then reindex with a new index starting from 1\n",
    "df = df.iloc[1::2].reset_index(drop=True)\n",
    "\n",
    "# Display the updated DataFrame\n",
    "print(df)\n"
   ]
  },
  {
   "cell_type": "code",
   "execution_count": 19,
   "id": "4146410b",
   "metadata": {},
   "outputs": [
    {
     "ename": "SyntaxError",
     "evalue": "EOL while scanning string literal (3114548486.py, line 1)",
     "output_type": "error",
     "traceback": [
      "\u001b[1;36m  File \u001b[1;32m\"C:\\Users\\91932\\AppData\\Local\\Temp\\ipykernel_2364\\3114548486.py\"\u001b[1;36m, line \u001b[1;32m1\u001b[0m\n\u001b[1;33m    \"\" \" You have a Pandas DataFrame df with a column named 'Values'. Write a Python function that\u001b[0m\n\u001b[1;37m                                                                                                  ^\u001b[0m\n\u001b[1;31mSyntaxError\u001b[0m\u001b[1;31m:\u001b[0m EOL while scanning string literal\n"
     ]
    }
   ],
   "source": [
    "\"\" \" You have a Pandas DataFrame df with a column named 'Values'. Write a Python function that\n",
    "iterates over the DataFrame and calculates the sum of the first three values in the 'Values' column. The\n",
    "function should print the sum to the console.\"\"\""
   ]
  },
  {
   "cell_type": "code",
   "execution_count": 1,
   "id": "d6d89808",
   "metadata": {},
   "outputs": [],
   "source": [
    "  import pandas as pd \n",
    "  data = { \n",
    "     \"Values\" : [1,2,3,4,5,6,7] \n",
    "  }\n",
    "sum = 0\n",
    "df = pd.DataFrame(data)\n",
    "for x in df :\n",
    "    if x <=x[2]\n",
    "    sum = sum + x\n",
    "print(sum)    "
   ]
  },
  {
   "cell_type": "code",
   "execution_count": 2,
   "id": "4f586363",
   "metadata": {},
   "outputs": [
    {
     "name": "stdout",
     "output_type": "stream",
     "text": [
      "6\n"
     ]
    }
   ],
   "source": [
    "import pandas as pd \n",
    "\n",
    "data = { \n",
    "    \"Values\": [1, 2, 3, 4, 5, 6, 7] \n",
    "}\n",
    "\n",
    "sum_result = 0\n",
    "df = pd.DataFrame(data)\n",
    "\n",
    "for x in df['Values']:\n",
    "    if x <= df['Values'][2]:\n",
    "        sum_result = sum_result + x\n",
    "\n",
    "print(sum_result)\n"
   ]
  },
  {
   "cell_type": "code",
   "execution_count": 3,
   "id": "f2bde6e0",
   "metadata": {},
   "outputs": [],
   "source": [
    "#Q4. Given a Pandas DataFrame df with a column 'Text', write a Python function to create a new column\n",
    "#'Word_Count' that contains the number of words in each row of the 'Text' column."
   ]
  },
  {
   "cell_type": "code",
   "execution_count": 8,
   "id": "85b431f8",
   "metadata": {},
   "outputs": [
    {
     "name": "stdout",
     "output_type": "stream",
     "text": [
      "     Text  Word_Count\n",
      "0     anu           1\n",
      "1  dhruvi           1\n"
     ]
    }
   ],
   "source": [
    "import pandas as pd \n",
    "data = {\n",
    "    \"Text\" : [\"anu \",\"dhruvi\"]\n",
    "}\n",
    "df = pd.DataFrame(data)\n",
    "\n",
    "df['Word_Count'] = df['Text'].apply(lambda x : len(x.split()))\n",
    "print(df)\n"
   ]
  },
  {
   "cell_type": "code",
   "execution_count": 13,
   "id": "82eff35b",
   "metadata": {},
   "outputs": [
    {
     "ename": "TypeError",
     "evalue": "'numpy.int32' object is not callable",
     "output_type": "error",
     "traceback": [
      "\u001b[1;31m---------------------------------------------------------------------------\u001b[0m",
      "\u001b[1;31mTypeError\u001b[0m                                 Traceback (most recent call last)",
      "\u001b[1;32m~\\AppData\\Local\\Temp\\ipykernel_27876\\1832098331.py\u001b[0m in \u001b[0;36m<module>\u001b[1;34m\u001b[0m\n\u001b[0;32m      5\u001b[0m }\n\u001b[0;32m      6\u001b[0m \u001b[0mdf\u001b[0m \u001b[1;33m=\u001b[0m \u001b[0mpd\u001b[0m\u001b[1;33m.\u001b[0m\u001b[0mDataFrame\u001b[0m\u001b[1;33m(\u001b[0m\u001b[0mdata\u001b[0m\u001b[1;33m)\u001b[0m\u001b[1;33m\u001b[0m\u001b[1;33m\u001b[0m\u001b[0m\n\u001b[1;32m----> 7\u001b[1;33m \u001b[0mds\u001b[0m \u001b[1;33m=\u001b[0m \u001b[0mdf\u001b[0m\u001b[1;33m.\u001b[0m\u001b[0msize\u001b[0m\u001b[1;33m(\u001b[0m\u001b[1;33m)\u001b[0m\u001b[1;33m\u001b[0m\u001b[1;33m\u001b[0m\u001b[0m\n\u001b[0m\u001b[0;32m      8\u001b[0m \u001b[0mprint\u001b[0m\u001b[1;33m(\u001b[0m\u001b[0mds\u001b[0m\u001b[1;33m)\u001b[0m\u001b[1;33m\u001b[0m\u001b[1;33m\u001b[0m\u001b[0m\n\u001b[0;32m      9\u001b[0m \u001b[0mdf\u001b[0m\u001b[1;33m[\u001b[0m\u001b[1;34m'Word_Count'\u001b[0m\u001b[1;33m]\u001b[0m \u001b[1;33m=\u001b[0m \u001b[0mdf\u001b[0m\u001b[1;33m[\u001b[0m\u001b[1;34m'Text'\u001b[0m\u001b[1;33m]\u001b[0m\u001b[1;33m.\u001b[0m\u001b[0mapply\u001b[0m\u001b[1;33m(\u001b[0m\u001b[1;32mlambda\u001b[0m \u001b[0mx\u001b[0m\u001b[1;33m:\u001b[0m \u001b[0mlen\u001b[0m\u001b[1;33m(\u001b[0m\u001b[0mx\u001b[0m\u001b[1;33m.\u001b[0m\u001b[0msplit\u001b[0m\u001b[1;33m(\u001b[0m\u001b[1;33m)\u001b[0m\u001b[1;33m)\u001b[0m\u001b[1;33m)\u001b[0m\u001b[1;33m\u001b[0m\u001b[1;33m\u001b[0m\u001b[0m\n",
      "\u001b[1;31mTypeError\u001b[0m: 'numpy.int32' object is not callable"
     ]
    }
   ],
   "source": [
    "import pandas as pd \n",
    "\n",
    "data = {\n",
    "    \"Text\": [\"anu\", \"dhruvi\"]\n",
    "}\n",
    "df = pd.DataFrame(data)\n",
    "ds = df.size()\n",
    "print(ds)\n",
    "df['Word_Count'] = df['Text'].apply(lambda x: len(x.split()))\n",
    "print(df)\n"
   ]
  },
  {
   "cell_type": "code",
   "execution_count": 15,
   "id": "ad345ac1",
   "metadata": {},
   "outputs": [
    {
     "name": "stdout",
     "output_type": "stream",
     "text": [
      "2\n",
      "(2, 1)\n"
     ]
    }
   ],
   "source": [
    "import pandas as pd \n",
    "\n",
    "data = {\n",
    "    \"Text\": [\"anu\", \"dhruvi\"]\n",
    "}\n",
    "df = pd.DataFrame(data)\n",
    "ds = df.size\n",
    "dq = df.shape\n",
    "print(ds)\n",
    "print(dq)"
   ]
  },
  {
   "cell_type": "code",
   "execution_count": 16,
   "id": "4b3a2754",
   "metadata": {},
   "outputs": [],
   "source": [
    "import pandas as pd\n",
    "#df = pd.read_excel(\".xls\")"
   ]
  },
  {
   "cell_type": "code",
   "execution_count": 17,
   "id": "215b16a3",
   "metadata": {},
   "outputs": [],
   "source": [
    "#You have a Pandas DataFrame df that contains a column named 'Email' that contains email\n",
    "#addresses in the format 'username@domain.com'. Write a Python function that creates a new column\n",
    "#'Username' in df that contains only the username part of each email address."
   ]
  },
  {
   "cell_type": "code",
   "execution_count": 28,
   "id": "27440b86",
   "metadata": {},
   "outputs": [
    {
     "name": "stdout",
     "output_type": "stream",
     "text": [
      "              EMAIL Username\n",
      "0     ANU@gmail.com      ANU\n",
      "1  Dhruvi@gmail.com   Dhruvi\n",
      "2    mimi@gmail.com     mimi\n"
     ]
    }
   ],
   "source": [
    "import pandas as pd\n",
    "data = {\n",
    "    'EMAIL' : ['ANU@gmail.com','Dhruvi@gmail.com','mimi@gmail.com']\n",
    " }\n",
    "df = pd.DataFrame(data)\n",
    "df['Username'] = df['EMAIL'].apply(lambda x : x.split('@')[0] )\n",
    "print(df)"
   ]
  },
  {
   "cell_type": "code",
   "execution_count": 29,
   "id": "87427337",
   "metadata": {},
   "outputs": [],
   "source": [
    "#Q8. You have a Pandas DataFrame df with columns 'A', 'B', and 'C'. Write a Python function that selects\n",
    "#all rows where the value in column 'A' is greater than 5 and the value in column 'B' is less than 10. The\n",
    "#function should return a new DataFrame that contains only the selected rows."
   ]
  },
  {
   "cell_type": "code",
   "execution_count": 40,
   "id": "dbd40e0a",
   "metadata": {},
   "outputs": [
    {
     "name": "stdout",
     "output_type": "stream",
     "text": [
      "   A   B  C\n",
      "1  6  11  2\n",
      "2  7  23  3\n"
     ]
    }
   ],
   "source": [
    "import pandas as pd\n",
    "\n",
    "data = {\n",
    "    'A': [5, 6, 7, 4, 5, 3],\n",
    "    'B': [9, 11, 23, 45, 1, 8],\n",
    "    'C': [1, 2, 3, 4, 5, 6]\n",
    "}\n",
    "\n",
    "df = pd.DataFrame(data)\n",
    "\n",
    "# Use parentheses to set the proper order of evaluation\n",
    "dq = df[(df['A'] > 5) & (df['B'] > 10)]\n",
    "\n",
    "print(dq)\n"
   ]
  },
  {
   "cell_type": "code",
   "execution_count": 41,
   "id": "3cfa6cbb",
   "metadata": {},
   "outputs": [],
   "source": [
    "#Given a Pandas DataFrame df with a column 'Values', write a Python function to calculate the mean,\n",
    "#median, and standard deviation of the values in the 'Values' column."
   ]
  },
  {
   "cell_type": "code",
   "execution_count": 43,
   "id": "f78c5883",
   "metadata": {},
   "outputs": [
    {
     "name": "stdout",
     "output_type": "stream",
     "text": [
      "60.375\n",
      "61.0\n",
      "35.18497041148596\n"
     ]
    }
   ],
   "source": [
    "import pandas as pd\n",
    "\n",
    "data = {\n",
    "    'Values': [12, 23, 45, 66, 72, 122, 56, 87]\n",
    "}\n",
    "\n",
    "df = pd.DataFrame(data)\n",
    "\n",
    "# Calculate mean, median, and standard deviation\n",
    "a = df['Values'].mean()\n",
    "b = df['Values'].median()\n",
    "c = df['Values'].std()\n",
    "\n",
    "print(a)\n",
    "print(b)\n",
    "print(c)\n",
    "\n"
   ]
  },
  {
   "cell_type": "code",
   "execution_count": 1,
   "id": "c117a420",
   "metadata": {},
   "outputs": [],
   "source": [
    "#You have a Pandas DataFrame df with a column 'Date'. Write a Python function that creates a new\n",
    "#column 'Weekday' in the DataFrame. The 'Weekday' column should contain the weekday name (e.g.\n",
    "#Monday, Tuesday) corresponding to each date in the 'Date' column."
   ]
  },
  {
   "cell_type": "code",
   "execution_count": 4,
   "id": "fa3be8b0",
   "metadata": {},
   "outputs": [
    {
     "name": "stdout",
     "output_type": "stream",
     "text": [
      "        Date  Week\n",
      "0 2023-01-01    52\n",
      "1 2023-01-02     1\n",
      "2 2023-01-03     1\n",
      "3 2023-01-04     1\n"
     ]
    },
    {
     "name": "stderr",
     "output_type": "stream",
     "text": [
      "C:\\Users\\91932\\AppData\\Local\\Temp\\ipykernel_24992\\1484542016.py:13: FutureWarning: Series.dt.weekofyear and Series.dt.week have been deprecated. Please use Series.dt.isocalendar().week instead.\n",
      "  df['Week'] = df['Date'].dt.week\n"
     ]
    }
   ],
   "source": [
    "import pandas as pd\n",
    "\n",
    "data = {\n",
    "    'Date': ['2023-01-01', '2023-01-02', '2023-01-03', '2023-01-04']\n",
    "}\n",
    "\n",
    "df = pd.DataFrame(data)\n",
    "\n",
    "# Convert 'Date' column to datetime\n",
    "df['Date'] = pd.to_datetime(df['Date'])\n",
    "\n",
    "# Extract the week number\n",
    "df['Week'] = df['Date'].dt.week\n",
    "\n",
    "print(df)\n"
   ]
  },
  {
   "cell_type": "code",
   "execution_count": 6,
   "id": "80ff2e65",
   "metadata": {},
   "outputs": [
    {
     "name": "stdout",
     "output_type": "stream",
     "text": [
      "        Date\n",
      "0 2023-01-01\n",
      "1 2023-01-02\n",
      "2 2023-01-03\n",
      "3 2023-01-04\n"
     ]
    }
   ],
   "source": [
    "import pandas as pd\n",
    "\n",
    "data = {\n",
    "    'Date': ['2023-01-01', '2023-01-02', '2023-01-03', '2023-01-04']\n",
    "}\n",
    "\n",
    "df = pd.DataFrame(data)\n",
    "\n",
    "# Convert 'Date' column to datetime\n",
    "df['Date'] = pd.to_datetime(df['Date'])\n",
    "\n",
    "# Extract day names\n",
    "df['Day'] = df['Date'].dt.day_name()\n",
    "\n",
    "print(df)\n"
   ]
  },
  {
   "cell_type": "code",
   "execution_count": 8,
   "id": "8cdaaa91",
   "metadata": {},
   "outputs": [
    {
     "name": "stdout",
     "output_type": "stream",
     "text": [
      "                 Date  Year  Month  Day  Hour  Minute  Second  Weekday  \\\n",
      "0 2023-01-01 12:30:45  2023      1    1    12      30      45        6   \n",
      "1 2023-02-15 08:15:30  2023      2   15     8      15      30        2   \n",
      "2 2023-03-20 18:45:00  2023      3   20    18      45       0        0   \n",
      "3 2023-04-10 04:00:00  2023      4   10     4       0       0        0   \n",
      "\n",
      "     DayName  \n",
      "0     Sunday  \n",
      "1  Wednesday  \n",
      "2     Monday  \n",
      "3     Monday  \n"
     ]
    }
   ],
   "source": [
    "import pandas as pd\n",
    "\n",
    "data = {\n",
    "    'Date': ['2023-01-01 12:30:45', '2023-02-15 08:15:30', '2023-03-20 18:45:00', '2023-04-10 04:00:00']\n",
    "}\n",
    "\n",
    "df = pd.DataFrame(data)\n",
    "\n",
    "# Convert 'Date' column to datetime\n",
    "df['Date'] = pd.to_datetime(df['Date'])\n",
    "\n",
    "# Extract various datetime attributes\n",
    "df['Year'] = df['Date'].dt.year\n",
    "df['Month'] = df['Date'].dt.month\n",
    "df['Day'] = df['Date'].dt.day\n",
    "df['Hour'] = df['Date'].dt.hour\n",
    "df['Minute'] = df['Date'].dt.minute\n",
    "df['Second'] = df['Date'].dt.second\n",
    "df['Weekday'] = df['Date'].dt.weekday\n",
    "df['DayName'] = df['Date'].dt.day_name()\n",
    "\n",
    "print(df)\n"
   ]
  },
  {
   "cell_type": "code",
   "execution_count": 9,
   "id": "8cedf626",
   "metadata": {},
   "outputs": [],
   "source": [
    "#Given a Pandas DataFrame df with a column 'Date' that contains timestamps, write a Python\n",
    "#function to select all rows where the date is between '2023-01-01' and '2023-01-31'."
   ]
  },
  {
   "cell_type": "code",
   "execution_count": 11,
   "id": "9101b71b",
   "metadata": {},
   "outputs": [
    {
     "name": "stdout",
     "output_type": "stream",
     "text": [
      "                  Date\n",
      "0  2023-01-01 12:30:45\n"
     ]
    }
   ],
   "source": [
    "import pandas as pd\n",
    "\n",
    "data = {\n",
    "    'Date': ['2023-01-01 12:30:45', '2023-02-15 08:15:30', '2023-03-20 18:45:00', '2023-04-10 04:00:00']\n",
    "}\n",
    "df = pd.DataFrame(data)\n",
    "dt = df[(df['Date']>=('2023-01-01')) & (df['Date']<=('2023-01-31')) ]\n",
    "print(dt)"
   ]
  },
  {
   "cell_type": "code",
   "execution_count": null,
   "id": "af421192",
   "metadata": {},
   "outputs": [],
   "source": []
  }
 ],
 "metadata": {
  "kernelspec": {
   "display_name": "Python 3 (ipykernel)",
   "language": "python",
   "name": "python3"
  },
  "language_info": {
   "codemirror_mode": {
    "name": "ipython",
    "version": 3
   },
   "file_extension": ".py",
   "mimetype": "text/x-python",
   "name": "python",
   "nbconvert_exporter": "python",
   "pygments_lexer": "ipython3",
   "version": "3.9.13"
  }
 },
 "nbformat": 4,
 "nbformat_minor": 5
}
